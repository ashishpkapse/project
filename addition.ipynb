{
 "cells": [
  {
   "cell_type": "markdown",
   "id": "1861aad4-a8ac-42fc-8c7d-aada4e3087fc",
   "metadata": {},
   "source": [
    "addition: integers, floats and strings"
   ]
  },
  {
   "cell_type": "markdown",
   "id": "62024ecc-1fe1-4651-8e15-7df4486d85b7",
   "metadata": {},
   "source": [
    "practice:\n",
    "\n",
    "1 run code for adding 3 different digit integers\n",
    "2 run code for adding 3 strings\n",
    "3 run code for adding a vareiable string and a literal string\n",
    "4 assign a for  string a value to the variable first_name and add to the string\",goes to the school\"\n",
    "5 create varieables number_1 and number_2 and assign numbers then add the numbers\n"
   ]
  },
  {
   "cell_type": "code",
   "execution_count": 1,
   "id": "16f3cdcf-bc85-494b-8da1-c9b1de25a434",
   "metadata": {},
   "outputs": [
    {
     "data": {
      "text/plain": [
       "9"
      ]
     },
     "execution_count": 1,
     "metadata": {},
     "output_type": "execute_result"
    }
   ],
   "source": [
    "3+6"
   ]
  },
  {
   "cell_type": "code",
   "execution_count": 2,
   "id": "acb8c1f9-f9ba-4777-b2bc-3417079f42a4",
   "metadata": {},
   "outputs": [
    {
     "name": "stdout",
     "output_type": "stream",
     "text": [
      "13\n"
     ]
    }
   ],
   "source": [
    "print(5+8)"
   ]
  },
  {
   "cell_type": "code",
   "execution_count": 3,
   "id": "22d13e08-83b1-4698-8a45-ecc96a050a34",
   "metadata": {},
   "outputs": [
    {
     "data": {
      "text/plain": [
       "15.350000000000001"
      ]
     },
     "execution_count": 3,
     "metadata": {},
     "output_type": "execute_result"
    }
   ],
   "source": [
    "5.7+9.65"
   ]
  },
  {
   "cell_type": "code",
   "execution_count": 4,
   "id": "5d20a951-ff2a-4f1e-8bb6-4b2fab87b765",
   "metadata": {},
   "outputs": [
    {
     "data": {
      "text/plain": [
       "16.3"
      ]
     },
     "execution_count": 4,
     "metadata": {},
     "output_type": "execute_result"
    }
   ],
   "source": [
    "6.8+9.5"
   ]
  },
  {
   "cell_type": "code",
   "execution_count": 5,
   "id": "66ec07f9-8d3b-4d89-af6b-f1186b777ce9",
   "metadata": {},
   "outputs": [
    {
     "name": "stdout",
     "output_type": "stream",
     "text": [
      "13.2\n"
     ]
    }
   ],
   "source": [
    "print(5.6+7.6)"
   ]
  },
  {
   "cell_type": "code",
   "execution_count": 9,
   "id": "2fa0e9db-1d74-4914-a614-08f68aa83831",
   "metadata": {},
   "outputs": [
    {
     "name": "stdout",
     "output_type": "stream",
     "text": [
      "munahil is python learning python\n"
     ]
    }
   ],
   "source": [
    "print(\"munahil \"+\"is \"+ \"python \" +\"learning python\")# add space to the end of munahil for is seperation"
   ]
  },
  {
   "cell_type": "code",
   "execution_count": 12,
   "id": "262bbe55-c0da-4472-8f3c-985c73f5d263",
   "metadata": {},
   "outputs": [
    {
     "data": {
      "text/plain": [
       "19"
      ]
     },
     "execution_count": 12,
     "metadata": {},
     "output_type": "execute_result"
    }
   ],
   "source": [
    "x=6\n",
    "y=9\n",
    "z=4\n",
    "x+y+z"
   ]
  },
  {
   "cell_type": "code",
   "execution_count": 13,
   "id": "6a36384b-9694-4c4f-a552-7f9acc7c5e0b",
   "metadata": {},
   "outputs": [
    {
     "data": {
      "text/plain": [
       "10.9"
      ]
     },
     "execution_count": 13,
     "metadata": {},
     "output_type": "execute_result"
    }
   ],
   "source": [
    "a=4.5\n",
    "b=6.4\n",
    "a+b"
   ]
  },
  {
   "cell_type": "code",
   "execution_count": 15,
   "id": "6d344608-2c52-4f65-89ff-d491d7f9c0e1",
   "metadata": {},
   "outputs": [
    {
     "data": {
      "text/plain": [
       "'ali is in garde 5'"
      ]
     },
     "execution_count": 15,
     "metadata": {},
     "output_type": "execute_result"
    }
   ],
   "source": [
    "student_name=\"ali\"#for variable it is neccesary to add =\n",
    "\"is in garde 5\"\n",
    "student_name+\" is in garde 5\""
   ]
  },
  {
   "cell_type": "code",
   "execution_count": 17,
   "id": "54a262f9-78b8-4842-a3e5-dc1842ea6274",
   "metadata": {},
   "outputs": [
    {
     "data": {
      "text/plain": [
       "'raza  malik'"
      ]
     },
     "execution_count": 17,
     "metadata": {},
     "output_type": "execute_result"
    }
   ],
   "source": [
    "first_name=\"raza \"\n",
    "last_name=\" malik\"\n",
    "first_name+last_name"
   ]
  },
  {
   "cell_type": "code",
   "execution_count": null,
   "id": "73ab8f8a-9790-464d-843a-f60e0ff78d73",
   "metadata": {},
   "outputs": [],
   "source": []
  }
 ],
 "metadata": {
  "kernelspec": {
   "display_name": "Python 3 (ipykernel)",
   "language": "python",
   "name": "python3"
  },
  "language_info": {
   "codemirror_mode": {
    "name": "ipython",
    "version": 3
   },
   "file_extension": ".py",
   "mimetype": "text/x-python",
   "name": "python",
   "nbconvert_exporter": "python",
   "pygments_lexer": "ipython3",
   "version": "3.12.7"
  }
 },
 "nbformat": 4,
 "nbformat_minor": 5
}
